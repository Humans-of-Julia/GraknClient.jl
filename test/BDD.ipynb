{
 "cells": [
  {
   "cell_type": "code",
   "execution_count": 4,
   "metadata": {},
   "outputs": [
    {
     "output_type": "stream",
     "name": "stdout",
     "text": [
      "using ExecutableSpecifications\n\n@when(\"\\$a = entity(person) create new instance with key(username): alice\") do context\n    @fail \"Implement me\"\nend\n\n\n@then(\"entity \\$a is null: false\") do context\n    @fail \"Implement me\"\nend\n\n\n@then(\"entity \\$a has type: person\") do context\n    @fail \"Implement me\"\nend\n\n\n@then(\"entity(person) get instances contain: \\$a\") do context\n    @fail \"Implement me\"\nend\n\n\n@then(\"transaction commits\") do context\n    @fail \"Implement me\"\nend\n\n\n@when(\"session opens transaction of type: read\") do context\n    @fail \"Implement me\"\nend\n\n\n@when(\"\\$a = entity(person) get instance with key(username): alice\") do context\n    @fail \"Implement me\"\nend\n\n\n@when(\"\\$a = entity(person) create new instance\") do context\n    @fail \"Implement me\"\nend\n\n\n@then(\"transaction commits; throws exception\") do context\n    @fail \"Implement me\"\nend\n\n\n@when(\"delete entity: \\$a\") do context\n    @fail \"Implement me\"\nend\n\n\n@then(\"entity \\$a is deleted: true\") do context\n    @fail \"Implement me\"\nend\n\n\n@then(\"entity(person) get instances is empty\") do context\n    @fail \"Implement me\"\nend\n\n\n@when(\"session opens transaction of type: write\") do context\n    @fail \"Implement me\"\nend\n\n\n@when(\"\\$alice = attribute(username) as(string) put: alice\") do context\n    @fail \"Implement me\"\nend\n\n\n@when(\"entity \\$a set has: \\$alice\") do context\n    @fail \"Implement me\"\nend\n\n\n@then(\"entity \\$a get attributes(username) as(string) contain: \\$alice\") do context\n    @fail \"Implement me\"\nend\n\n\n@then(\"entity \\$a get keys contain: \\$alice\") do context\n    @fail \"Implement me\"\nend\n\n\n@then(\"attribute \\$alice get owners contain: \\$a\") do context\n    @fail \"Implement me\"\nend\n\n\n@when(\"\\$alice = attribute(username) as(string) get: alice\") do context\n    @fail \"Implement me\"\nend\n\n\n@when(\"entity \\$a unset has: \\$alice\") do context\n    @fail \"Implement me\"\nend\n\n\n@then(\"entity \\$a get attributes(username) as(string) do not contain: \\$alice\") do context\n    @fail \"Implement me\"\nend\n\n\n@then(\"entity \\$a get keys do not contain: \\$alice\") do context\n    @fail \"Implement me\"\nend\n\n\n@then(\"attribute \\$alice get owners do not contain: \\$a\") do context\n    @fail \"Implement me\"\nend\n\n\n@when(\"\\$bob = attribute(username) as(string) put: bob\") do context\n    @fail \"Implement me\"\nend\n\n\n@then(\"entity \\$a set has: \\$bob; throws exception\") do context\n    @fail \"Implement me\"\nend\n\n\n@when(\"\\$bob = attribute(username) as(string) get: bob\") do context\n    @fail \"Implement me\"\nend\n\n\n@when(\"\\$b = entity(person) create new instance\") do context\n    @fail \"Implement me\"\nend\n\n\n@then(\"entity \\$b set has: \\$alice; throws exception\") do context\n    @fail \"Implement me\"\nend\n\n\n@when(\"\\$email = attribute(email) as(string) put: alice@email.com\") do context\n    @fail \"Implement me\"\nend\n\n\n@when(\"entity \\$a set has: \\$email\") do context\n    @fail \"Implement me\"\nend\n\n\n@then(\"entity \\$a get attributes(email) as(string) contain: \\$email\") do context\n    @fail \"Implement me\"\nend\n\n\n@then(\"entity \\$a get attributes contain: \\$email\") do context\n    @fail \"Implement me\"\nend\n\n\n@then(\"attribute \\$email get owners contain: \\$a\") do context\n    @fail \"Implement me\"\nend\n\n\n@when(\"\\$email = attribute(email) as(string) get: alice@email.com\") do context\n    @fail \"Implement me\"\nend\n\n\n@when(\"entity \\$a unset has: \\$email\") do context\n    @fail \"Implement me\"\nend\n\n\n@then(\"entity \\$a get attributes(email) as(string) do not contain: \\$email\") do context\n    @fail \"Implement me\"\nend\n\n\n@then(\"entity \\$a get attributes do not contain: \\$email\") do context\n    @fail \"Implement me\"\nend\n\n\n@then(\"attribute \\$email get owners do not contain: \\$a\") do context\n    @fail \"Implement me\"\nend\n\n\n@when(\"entity \\$a set has: \\$email; throws exception\") do context\n    @fail \"Implement me\"\nend\n\n\n@given(\"connection has been opened\") do context\n    @fail \"Implement me\"\nend\n\n\n@given(\"connection does not have any database\") do context\n    @fail \"Implement me\"\nend\n\n\n@given(\"connection create database: grakn\") do context\n    @fail \"Implement me\"\nend\n\n\n@given(\"connection open schema session for database: grakn\") do context\n    @fail \"Implement me\"\nend\n\n\n@given(\"put attribute type: username, with value type: string\") do context\n    @fail \"Implement me\"\nend\n\n\n@given(\"put attribute type: email, with value type: string\") do context\n    @fail \"Implement me\"\nend\n\n\n@given(\"put entity type: person\") do context\n    @fail \"Implement me\"\nend\n\n\n@given(\"entity(person) set owns key type: username\") do context\n    @fail \"Implement me\"\nend\n\n\n@given(\"entity(person) set owns attribute type: email\") do context\n    @fail \"Implement me\"\nend\n\n\n@given(\"connection close all sessions\") do context\n    @fail \"Implement me\"\nend\n\n\n@given(\"connection open data session for database: grakn\") do context\n    @fail \"Implement me\"\nend\n\n\n"
     ]
    }
   ],
   "source": [
    "using ExecutableSpecifications: suggestmissingsteps, ParseOptions\n",
    "\n",
    "parseoptions = ParseOptions(allow_any_step_order=true)\n",
    "suggestmissingsteps(joinpath(@__DIR__, \"behaviour/features/concept/thing/entity.feature\"),joinpath(@__DIR__, \"behaviour/features/steps\"), parseoptions=parseoptions)"
   ]
  },
  {
   "cell_type": "code",
   "execution_count": null,
   "metadata": {},
   "outputs": [],
   "source": []
  }
 ],
 "metadata": {
  "kernelspec": {
   "display_name": "Julia 1.6.0",
   "language": "julia",
   "name": "julia-1.6"
  },
  "language_info": {
   "file_extension": ".jl",
   "mimetype": "application/julia",
   "name": "julia",
   "version": "1.6.0"
  }
 },
 "nbformat": 4,
 "nbformat_minor": 2
}